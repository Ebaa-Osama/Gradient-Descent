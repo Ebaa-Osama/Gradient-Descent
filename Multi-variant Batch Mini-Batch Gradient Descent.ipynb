{
 "cells": [
  {
   "cell_type": "code",
   "execution_count": 1,
   "id": "0cbf0144",
   "metadata": {
    "id": "0cbf0144"
   },
   "outputs": [],
   "source": [
    "import plotly.graph_objs as go\n",
    "import plotly\n",
    "from mpl_toolkits.mplot3d import Axes3D\n",
    "from sklearn.metrics import r2_score\n",
    "from sklearn.utils import shuffle\n",
    "import numpy as np\n",
    "import pandas as pd\n",
    "import matplotlib.pyplot as plt"
   ]
  },
  {
   "cell_type": "markdown",
   "id": "b71f66e3",
   "metadata": {},
   "source": [
    "### Read Data from csv file"
   ]
  },
  {
   "cell_type": "code",
   "execution_count": 2,
   "id": "6101214e",
   "metadata": {},
   "outputs": [
    {
     "data": {
      "text/html": [
       "<div>\n",
       "<style scoped>\n",
       "    .dataframe tbody tr th:only-of-type {\n",
       "        vertical-align: middle;\n",
       "    }\n",
       "\n",
       "    .dataframe tbody tr th {\n",
       "        vertical-align: top;\n",
       "    }\n",
       "\n",
       "    .dataframe thead th {\n",
       "        text-align: right;\n",
       "    }\n",
       "</style>\n",
       "<table border=\"1\" class=\"dataframe\">\n",
       "  <thead>\n",
       "    <tr style=\"text-align: right;\">\n",
       "      <th></th>\n",
       "      <th>X1</th>\n",
       "      <th>X2</th>\n",
       "      <th>X3</th>\n",
       "      <th>Y</th>\n",
       "    </tr>\n",
       "  </thead>\n",
       "  <tbody>\n",
       "    <tr>\n",
       "      <th>0</th>\n",
       "      <td>73</td>\n",
       "      <td>80</td>\n",
       "      <td>75</td>\n",
       "      <td>152</td>\n",
       "    </tr>\n",
       "    <tr>\n",
       "      <th>1</th>\n",
       "      <td>93</td>\n",
       "      <td>88</td>\n",
       "      <td>93</td>\n",
       "      <td>185</td>\n",
       "    </tr>\n",
       "    <tr>\n",
       "      <th>2</th>\n",
       "      <td>89</td>\n",
       "      <td>91</td>\n",
       "      <td>90</td>\n",
       "      <td>180</td>\n",
       "    </tr>\n",
       "    <tr>\n",
       "      <th>3</th>\n",
       "      <td>96</td>\n",
       "      <td>98</td>\n",
       "      <td>100</td>\n",
       "      <td>196</td>\n",
       "    </tr>\n",
       "    <tr>\n",
       "      <th>4</th>\n",
       "      <td>73</td>\n",
       "      <td>66</td>\n",
       "      <td>70</td>\n",
       "      <td>142</td>\n",
       "    </tr>\n",
       "    <tr>\n",
       "      <th>5</th>\n",
       "      <td>53</td>\n",
       "      <td>46</td>\n",
       "      <td>55</td>\n",
       "      <td>101</td>\n",
       "    </tr>\n",
       "    <tr>\n",
       "      <th>6</th>\n",
       "      <td>69</td>\n",
       "      <td>74</td>\n",
       "      <td>77</td>\n",
       "      <td>149</td>\n",
       "    </tr>\n",
       "    <tr>\n",
       "      <th>7</th>\n",
       "      <td>47</td>\n",
       "      <td>56</td>\n",
       "      <td>60</td>\n",
       "      <td>115</td>\n",
       "    </tr>\n",
       "    <tr>\n",
       "      <th>8</th>\n",
       "      <td>87</td>\n",
       "      <td>79</td>\n",
       "      <td>90</td>\n",
       "      <td>175</td>\n",
       "    </tr>\n",
       "    <tr>\n",
       "      <th>9</th>\n",
       "      <td>79</td>\n",
       "      <td>70</td>\n",
       "      <td>88</td>\n",
       "      <td>164</td>\n",
       "    </tr>\n",
       "    <tr>\n",
       "      <th>10</th>\n",
       "      <td>69</td>\n",
       "      <td>70</td>\n",
       "      <td>73</td>\n",
       "      <td>141</td>\n",
       "    </tr>\n",
       "    <tr>\n",
       "      <th>11</th>\n",
       "      <td>70</td>\n",
       "      <td>65</td>\n",
       "      <td>74</td>\n",
       "      <td>141</td>\n",
       "    </tr>\n",
       "    <tr>\n",
       "      <th>12</th>\n",
       "      <td>93</td>\n",
       "      <td>95</td>\n",
       "      <td>91</td>\n",
       "      <td>184</td>\n",
       "    </tr>\n",
       "    <tr>\n",
       "      <th>13</th>\n",
       "      <td>79</td>\n",
       "      <td>80</td>\n",
       "      <td>73</td>\n",
       "      <td>152</td>\n",
       "    </tr>\n",
       "    <tr>\n",
       "      <th>14</th>\n",
       "      <td>70</td>\n",
       "      <td>73</td>\n",
       "      <td>78</td>\n",
       "      <td>148</td>\n",
       "    </tr>\n",
       "    <tr>\n",
       "      <th>15</th>\n",
       "      <td>93</td>\n",
       "      <td>89</td>\n",
       "      <td>96</td>\n",
       "      <td>192</td>\n",
       "    </tr>\n",
       "    <tr>\n",
       "      <th>16</th>\n",
       "      <td>78</td>\n",
       "      <td>75</td>\n",
       "      <td>68</td>\n",
       "      <td>147</td>\n",
       "    </tr>\n",
       "    <tr>\n",
       "      <th>17</th>\n",
       "      <td>81</td>\n",
       "      <td>90</td>\n",
       "      <td>93</td>\n",
       "      <td>183</td>\n",
       "    </tr>\n",
       "    <tr>\n",
       "      <th>18</th>\n",
       "      <td>88</td>\n",
       "      <td>92</td>\n",
       "      <td>86</td>\n",
       "      <td>177</td>\n",
       "    </tr>\n",
       "    <tr>\n",
       "      <th>19</th>\n",
       "      <td>78</td>\n",
       "      <td>83</td>\n",
       "      <td>77</td>\n",
       "      <td>159</td>\n",
       "    </tr>\n",
       "    <tr>\n",
       "      <th>20</th>\n",
       "      <td>82</td>\n",
       "      <td>86</td>\n",
       "      <td>90</td>\n",
       "      <td>177</td>\n",
       "    </tr>\n",
       "    <tr>\n",
       "      <th>21</th>\n",
       "      <td>86</td>\n",
       "      <td>82</td>\n",
       "      <td>89</td>\n",
       "      <td>175</td>\n",
       "    </tr>\n",
       "    <tr>\n",
       "      <th>22</th>\n",
       "      <td>78</td>\n",
       "      <td>83</td>\n",
       "      <td>85</td>\n",
       "      <td>175</td>\n",
       "    </tr>\n",
       "    <tr>\n",
       "      <th>23</th>\n",
       "      <td>76</td>\n",
       "      <td>83</td>\n",
       "      <td>71</td>\n",
       "      <td>149</td>\n",
       "    </tr>\n",
       "    <tr>\n",
       "      <th>24</th>\n",
       "      <td>96</td>\n",
       "      <td>93</td>\n",
       "      <td>95</td>\n",
       "      <td>192</td>\n",
       "    </tr>\n",
       "  </tbody>\n",
       "</table>\n",
       "</div>"
      ],
      "text/plain": [
       "    X1  X2   X3    Y\n",
       "0   73  80   75  152\n",
       "1   93  88   93  185\n",
       "2   89  91   90  180\n",
       "3   96  98  100  196\n",
       "4   73  66   70  142\n",
       "5   53  46   55  101\n",
       "6   69  74   77  149\n",
       "7   47  56   60  115\n",
       "8   87  79   90  175\n",
       "9   79  70   88  164\n",
       "10  69  70   73  141\n",
       "11  70  65   74  141\n",
       "12  93  95   91  184\n",
       "13  79  80   73  152\n",
       "14  70  73   78  148\n",
       "15  93  89   96  192\n",
       "16  78  75   68  147\n",
       "17  81  90   93  183\n",
       "18  88  92   86  177\n",
       "19  78  83   77  159\n",
       "20  82  86   90  177\n",
       "21  86  82   89  175\n",
       "22  78  83   85  175\n",
       "23  76  83   71  149\n",
       "24  96  93   95  192"
      ]
     },
     "execution_count": 2,
     "metadata": {},
     "output_type": "execute_result"
    }
   ],
   "source": [
    "multivariable_data = pd.read_csv('MultipleLR.csv', names=['X1', 'X2', 'X3', 'Y'])\n",
    "multivariable_data"
   ]
  },
  {
   "cell_type": "markdown",
   "id": "f68cf7d4",
   "metadata": {},
   "source": [
    "### Shuffle the data"
   ]
  },
  {
   "cell_type": "code",
   "execution_count": 3,
   "id": "7e2b9c17",
   "metadata": {},
   "outputs": [
    {
     "data": {
      "text/html": [
       "<div>\n",
       "<style scoped>\n",
       "    .dataframe tbody tr th:only-of-type {\n",
       "        vertical-align: middle;\n",
       "    }\n",
       "\n",
       "    .dataframe tbody tr th {\n",
       "        vertical-align: top;\n",
       "    }\n",
       "\n",
       "    .dataframe thead th {\n",
       "        text-align: right;\n",
       "    }\n",
       "</style>\n",
       "<table border=\"1\" class=\"dataframe\">\n",
       "  <thead>\n",
       "    <tr style=\"text-align: right;\">\n",
       "      <th></th>\n",
       "      <th>X1</th>\n",
       "      <th>X2</th>\n",
       "      <th>X3</th>\n",
       "      <th>Y</th>\n",
       "    </tr>\n",
       "  </thead>\n",
       "  <tbody>\n",
       "    <tr>\n",
       "      <th>0</th>\n",
       "      <td>73</td>\n",
       "      <td>80</td>\n",
       "      <td>75</td>\n",
       "      <td>152</td>\n",
       "    </tr>\n",
       "    <tr>\n",
       "      <th>4</th>\n",
       "      <td>73</td>\n",
       "      <td>66</td>\n",
       "      <td>70</td>\n",
       "      <td>142</td>\n",
       "    </tr>\n",
       "    <tr>\n",
       "      <th>19</th>\n",
       "      <td>78</td>\n",
       "      <td>83</td>\n",
       "      <td>77</td>\n",
       "      <td>159</td>\n",
       "    </tr>\n",
       "    <tr>\n",
       "      <th>1</th>\n",
       "      <td>93</td>\n",
       "      <td>88</td>\n",
       "      <td>93</td>\n",
       "      <td>185</td>\n",
       "    </tr>\n",
       "    <tr>\n",
       "      <th>7</th>\n",
       "      <td>47</td>\n",
       "      <td>56</td>\n",
       "      <td>60</td>\n",
       "      <td>115</td>\n",
       "    </tr>\n",
       "    <tr>\n",
       "      <th>6</th>\n",
       "      <td>69</td>\n",
       "      <td>74</td>\n",
       "      <td>77</td>\n",
       "      <td>149</td>\n",
       "    </tr>\n",
       "    <tr>\n",
       "      <th>14</th>\n",
       "      <td>70</td>\n",
       "      <td>73</td>\n",
       "      <td>78</td>\n",
       "      <td>148</td>\n",
       "    </tr>\n",
       "    <tr>\n",
       "      <th>5</th>\n",
       "      <td>53</td>\n",
       "      <td>46</td>\n",
       "      <td>55</td>\n",
       "      <td>101</td>\n",
       "    </tr>\n",
       "    <tr>\n",
       "      <th>2</th>\n",
       "      <td>89</td>\n",
       "      <td>91</td>\n",
       "      <td>90</td>\n",
       "      <td>180</td>\n",
       "    </tr>\n",
       "    <tr>\n",
       "      <th>11</th>\n",
       "      <td>70</td>\n",
       "      <td>65</td>\n",
       "      <td>74</td>\n",
       "      <td>141</td>\n",
       "    </tr>\n",
       "    <tr>\n",
       "      <th>12</th>\n",
       "      <td>93</td>\n",
       "      <td>95</td>\n",
       "      <td>91</td>\n",
       "      <td>184</td>\n",
       "    </tr>\n",
       "    <tr>\n",
       "      <th>13</th>\n",
       "      <td>79</td>\n",
       "      <td>80</td>\n",
       "      <td>73</td>\n",
       "      <td>152</td>\n",
       "    </tr>\n",
       "    <tr>\n",
       "      <th>16</th>\n",
       "      <td>78</td>\n",
       "      <td>75</td>\n",
       "      <td>68</td>\n",
       "      <td>147</td>\n",
       "    </tr>\n",
       "    <tr>\n",
       "      <th>20</th>\n",
       "      <td>82</td>\n",
       "      <td>86</td>\n",
       "      <td>90</td>\n",
       "      <td>177</td>\n",
       "    </tr>\n",
       "    <tr>\n",
       "      <th>8</th>\n",
       "      <td>87</td>\n",
       "      <td>79</td>\n",
       "      <td>90</td>\n",
       "      <td>175</td>\n",
       "    </tr>\n",
       "    <tr>\n",
       "      <th>3</th>\n",
       "      <td>96</td>\n",
       "      <td>98</td>\n",
       "      <td>100</td>\n",
       "      <td>196</td>\n",
       "    </tr>\n",
       "    <tr>\n",
       "      <th>9</th>\n",
       "      <td>79</td>\n",
       "      <td>70</td>\n",
       "      <td>88</td>\n",
       "      <td>164</td>\n",
       "    </tr>\n",
       "    <tr>\n",
       "      <th>23</th>\n",
       "      <td>76</td>\n",
       "      <td>83</td>\n",
       "      <td>71</td>\n",
       "      <td>149</td>\n",
       "    </tr>\n",
       "    <tr>\n",
       "      <th>24</th>\n",
       "      <td>96</td>\n",
       "      <td>93</td>\n",
       "      <td>95</td>\n",
       "      <td>192</td>\n",
       "    </tr>\n",
       "    <tr>\n",
       "      <th>15</th>\n",
       "      <td>93</td>\n",
       "      <td>89</td>\n",
       "      <td>96</td>\n",
       "      <td>192</td>\n",
       "    </tr>\n",
       "    <tr>\n",
       "      <th>10</th>\n",
       "      <td>69</td>\n",
       "      <td>70</td>\n",
       "      <td>73</td>\n",
       "      <td>141</td>\n",
       "    </tr>\n",
       "    <tr>\n",
       "      <th>22</th>\n",
       "      <td>78</td>\n",
       "      <td>83</td>\n",
       "      <td>85</td>\n",
       "      <td>175</td>\n",
       "    </tr>\n",
       "    <tr>\n",
       "      <th>21</th>\n",
       "      <td>86</td>\n",
       "      <td>82</td>\n",
       "      <td>89</td>\n",
       "      <td>175</td>\n",
       "    </tr>\n",
       "    <tr>\n",
       "      <th>18</th>\n",
       "      <td>88</td>\n",
       "      <td>92</td>\n",
       "      <td>86</td>\n",
       "      <td>177</td>\n",
       "    </tr>\n",
       "    <tr>\n",
       "      <th>17</th>\n",
       "      <td>81</td>\n",
       "      <td>90</td>\n",
       "      <td>93</td>\n",
       "      <td>183</td>\n",
       "    </tr>\n",
       "  </tbody>\n",
       "</table>\n",
       "</div>"
      ],
      "text/plain": [
       "    X1  X2   X3    Y\n",
       "0   73  80   75  152\n",
       "4   73  66   70  142\n",
       "19  78  83   77  159\n",
       "1   93  88   93  185\n",
       "7   47  56   60  115\n",
       "6   69  74   77  149\n",
       "14  70  73   78  148\n",
       "5   53  46   55  101\n",
       "2   89  91   90  180\n",
       "11  70  65   74  141\n",
       "12  93  95   91  184\n",
       "13  79  80   73  152\n",
       "16  78  75   68  147\n",
       "20  82  86   90  177\n",
       "8   87  79   90  175\n",
       "3   96  98  100  196\n",
       "9   79  70   88  164\n",
       "23  76  83   71  149\n",
       "24  96  93   95  192\n",
       "15  93  89   96  192\n",
       "10  69  70   73  141\n",
       "22  78  83   85  175\n",
       "21  86  82   89  175\n",
       "18  88  92   86  177\n",
       "17  81  90   93  183"
      ]
     },
     "execution_count": 3,
     "metadata": {},
     "output_type": "execute_result"
    }
   ],
   "source": [
    "multivariable_data = shuffle(multivariable_data)\n",
    "multivariable_data"
   ]
  },
  {
   "cell_type": "markdown",
   "id": "d8ff0b76",
   "metadata": {},
   "source": [
    "### Add theta0 column (bias)"
   ]
  },
  {
   "cell_type": "code",
   "execution_count": 4,
   "id": "3e2e10d2",
   "metadata": {},
   "outputs": [
    {
     "data": {
      "text/html": [
       "<div>\n",
       "<style scoped>\n",
       "    .dataframe tbody tr th:only-of-type {\n",
       "        vertical-align: middle;\n",
       "    }\n",
       "\n",
       "    .dataframe tbody tr th {\n",
       "        vertical-align: top;\n",
       "    }\n",
       "\n",
       "    .dataframe thead th {\n",
       "        text-align: right;\n",
       "    }\n",
       "</style>\n",
       "<table border=\"1\" class=\"dataframe\">\n",
       "  <thead>\n",
       "    <tr style=\"text-align: right;\">\n",
       "      <th></th>\n",
       "      <th>Ones</th>\n",
       "      <th>X1</th>\n",
       "      <th>X2</th>\n",
       "      <th>X3</th>\n",
       "    </tr>\n",
       "  </thead>\n",
       "  <tbody>\n",
       "    <tr>\n",
       "      <th>0</th>\n",
       "      <td>1</td>\n",
       "      <td>73</td>\n",
       "      <td>80</td>\n",
       "      <td>75</td>\n",
       "    </tr>\n",
       "    <tr>\n",
       "      <th>4</th>\n",
       "      <td>1</td>\n",
       "      <td>73</td>\n",
       "      <td>66</td>\n",
       "      <td>70</td>\n",
       "    </tr>\n",
       "    <tr>\n",
       "      <th>19</th>\n",
       "      <td>1</td>\n",
       "      <td>78</td>\n",
       "      <td>83</td>\n",
       "      <td>77</td>\n",
       "    </tr>\n",
       "    <tr>\n",
       "      <th>1</th>\n",
       "      <td>1</td>\n",
       "      <td>93</td>\n",
       "      <td>88</td>\n",
       "      <td>93</td>\n",
       "    </tr>\n",
       "    <tr>\n",
       "      <th>7</th>\n",
       "      <td>1</td>\n",
       "      <td>47</td>\n",
       "      <td>56</td>\n",
       "      <td>60</td>\n",
       "    </tr>\n",
       "    <tr>\n",
       "      <th>6</th>\n",
       "      <td>1</td>\n",
       "      <td>69</td>\n",
       "      <td>74</td>\n",
       "      <td>77</td>\n",
       "    </tr>\n",
       "    <tr>\n",
       "      <th>14</th>\n",
       "      <td>1</td>\n",
       "      <td>70</td>\n",
       "      <td>73</td>\n",
       "      <td>78</td>\n",
       "    </tr>\n",
       "    <tr>\n",
       "      <th>5</th>\n",
       "      <td>1</td>\n",
       "      <td>53</td>\n",
       "      <td>46</td>\n",
       "      <td>55</td>\n",
       "    </tr>\n",
       "    <tr>\n",
       "      <th>2</th>\n",
       "      <td>1</td>\n",
       "      <td>89</td>\n",
       "      <td>91</td>\n",
       "      <td>90</td>\n",
       "    </tr>\n",
       "    <tr>\n",
       "      <th>11</th>\n",
       "      <td>1</td>\n",
       "      <td>70</td>\n",
       "      <td>65</td>\n",
       "      <td>74</td>\n",
       "    </tr>\n",
       "    <tr>\n",
       "      <th>12</th>\n",
       "      <td>1</td>\n",
       "      <td>93</td>\n",
       "      <td>95</td>\n",
       "      <td>91</td>\n",
       "    </tr>\n",
       "    <tr>\n",
       "      <th>13</th>\n",
       "      <td>1</td>\n",
       "      <td>79</td>\n",
       "      <td>80</td>\n",
       "      <td>73</td>\n",
       "    </tr>\n",
       "    <tr>\n",
       "      <th>16</th>\n",
       "      <td>1</td>\n",
       "      <td>78</td>\n",
       "      <td>75</td>\n",
       "      <td>68</td>\n",
       "    </tr>\n",
       "    <tr>\n",
       "      <th>20</th>\n",
       "      <td>1</td>\n",
       "      <td>82</td>\n",
       "      <td>86</td>\n",
       "      <td>90</td>\n",
       "    </tr>\n",
       "    <tr>\n",
       "      <th>8</th>\n",
       "      <td>1</td>\n",
       "      <td>87</td>\n",
       "      <td>79</td>\n",
       "      <td>90</td>\n",
       "    </tr>\n",
       "    <tr>\n",
       "      <th>3</th>\n",
       "      <td>1</td>\n",
       "      <td>96</td>\n",
       "      <td>98</td>\n",
       "      <td>100</td>\n",
       "    </tr>\n",
       "    <tr>\n",
       "      <th>9</th>\n",
       "      <td>1</td>\n",
       "      <td>79</td>\n",
       "      <td>70</td>\n",
       "      <td>88</td>\n",
       "    </tr>\n",
       "    <tr>\n",
       "      <th>23</th>\n",
       "      <td>1</td>\n",
       "      <td>76</td>\n",
       "      <td>83</td>\n",
       "      <td>71</td>\n",
       "    </tr>\n",
       "    <tr>\n",
       "      <th>24</th>\n",
       "      <td>1</td>\n",
       "      <td>96</td>\n",
       "      <td>93</td>\n",
       "      <td>95</td>\n",
       "    </tr>\n",
       "    <tr>\n",
       "      <th>15</th>\n",
       "      <td>1</td>\n",
       "      <td>93</td>\n",
       "      <td>89</td>\n",
       "      <td>96</td>\n",
       "    </tr>\n",
       "    <tr>\n",
       "      <th>10</th>\n",
       "      <td>1</td>\n",
       "      <td>69</td>\n",
       "      <td>70</td>\n",
       "      <td>73</td>\n",
       "    </tr>\n",
       "    <tr>\n",
       "      <th>22</th>\n",
       "      <td>1</td>\n",
       "      <td>78</td>\n",
       "      <td>83</td>\n",
       "      <td>85</td>\n",
       "    </tr>\n",
       "    <tr>\n",
       "      <th>21</th>\n",
       "      <td>1</td>\n",
       "      <td>86</td>\n",
       "      <td>82</td>\n",
       "      <td>89</td>\n",
       "    </tr>\n",
       "    <tr>\n",
       "      <th>18</th>\n",
       "      <td>1</td>\n",
       "      <td>88</td>\n",
       "      <td>92</td>\n",
       "      <td>86</td>\n",
       "    </tr>\n",
       "    <tr>\n",
       "      <th>17</th>\n",
       "      <td>1</td>\n",
       "      <td>81</td>\n",
       "      <td>90</td>\n",
       "      <td>93</td>\n",
       "    </tr>\n",
       "  </tbody>\n",
       "</table>\n",
       "</div>"
      ],
      "text/plain": [
       "    Ones  X1  X2   X3\n",
       "0      1  73  80   75\n",
       "4      1  73  66   70\n",
       "19     1  78  83   77\n",
       "1      1  93  88   93\n",
       "7      1  47  56   60\n",
       "6      1  69  74   77\n",
       "14     1  70  73   78\n",
       "5      1  53  46   55\n",
       "2      1  89  91   90\n",
       "11     1  70  65   74\n",
       "12     1  93  95   91\n",
       "13     1  79  80   73\n",
       "16     1  78  75   68\n",
       "20     1  82  86   90\n",
       "8      1  87  79   90\n",
       "3      1  96  98  100\n",
       "9      1  79  70   88\n",
       "23     1  76  83   71\n",
       "24     1  96  93   95\n",
       "15     1  93  89   96\n",
       "10     1  69  70   73\n",
       "22     1  78  83   85\n",
       "21     1  86  82   89\n",
       "18     1  88  92   86\n",
       "17     1  81  90   93"
      ]
     },
     "execution_count": 4,
     "metadata": {},
     "output_type": "execute_result"
    }
   ],
   "source": [
    "multivariable_data.insert(0, 'Ones', 1)\n",
    "X_multi = multivariable_data.iloc[:, :-1]\n",
    "X_multi"
   ]
  },
  {
   "cell_type": "code",
   "execution_count": 5,
   "id": "2f88b080",
   "metadata": {},
   "outputs": [
    {
     "data": {
      "text/plain": [
       "(25,)"
      ]
     },
     "execution_count": 5,
     "metadata": {},
     "output_type": "execute_result"
    }
   ],
   "source": [
    "Y_multi = multivariable_data.iloc[:,-1]\n",
    "Y_multi.shape"
   ]
  },
  {
   "cell_type": "markdown",
   "id": "eb73e3e8",
   "metadata": {},
   "source": [
    "# Adam (Batch Version)"
   ]
  },
  {
   "cell_type": "code",
   "execution_count": 6,
   "id": "b93fe9b7",
   "metadata": {},
   "outputs": [],
   "source": [
    "def multivariate_Adam_gradient_descent(X,y,alpha,epsilon,beta1,beta2,epochs):\n",
    "    thetas = np.zeros(X.shape[1])\n",
    "    vs = np.zeros(X.shape[1])\n",
    "    ms = np.zeros(X.shape[1])\n",
    "    n = len(X)\n",
    "    costs = []\n",
    "    thetas_list = []\n",
    "    hypothesis =[]\n",
    "    gradient_list = []\n",
    "    for i in range(epochs):\n",
    "        y_hat = X @ thetas\n",
    "        hypothesis.append(y_hat)\n",
    "        z = y_hat - y\n",
    "        costs.append((1/(2*n)) * np.sum(np.power(z,2)))\n",
    "        \n",
    "        gradient = (X.T@z/n)  \n",
    "        gradient_list.append(gradient)\n",
    "        \n",
    "        ms = (beta1 * ms) + (1 - beta1) * gradient\n",
    "        vs = (beta2 * vs) + (1 - beta2) * np.power(gradient,2)\n",
    "        ms_hat = ms / (1 - (np.power(beta1, i+1)))\n",
    "        vs_hat = vs / (1 - (np.power(beta2, i+1)))\n",
    "        \n",
    "        thetas = thetas - ((alpha / (np.sqrt(vs_hat) + epsilon)) * ms_hat)\n",
    "        thetas_list.append(thetas)\n",
    "        \n",
    "        if i > 0:\n",
    "            if abs(costs[i-1] - costs[i]) < 0.001:\n",
    "                break\n",
    "            if abs(np.linalg.norm(gradient_list[i-1]) - np.linalg.norm(gradient_list[i])) < 0.001:\n",
    "                break\n",
    "\n",
    "    print(f\"After {i} iterations\")\n",
    "    return thetas, costs, hypothesis, thetas_list"
   ]
  },
  {
   "cell_type": "markdown",
   "id": "c96c2cbd",
   "metadata": {},
   "source": [
    "### Values of Thetas"
   ]
  },
  {
   "cell_type": "code",
   "execution_count": 7,
   "id": "2da7bd19",
   "metadata": {},
   "outputs": [
    {
     "name": "stdout",
     "output_type": "stream",
     "text": [
      "After 302 iterations\n",
      "Thetas are: \n",
      "Theta 0 : 0.6664360750558337\n",
      "Theta 1 : 0.6628737329612766\n",
      "Theta 2 : 0.6617197532413692\n",
      "Theta 3 : 0.6897864397610819\n"
     ]
    }
   ],
   "source": [
    "thetas_batch, costs_batch, hypothesis_batch, thetas_list_batch = multivariate_Adam_gradient_descent(X_multi,Y_multi,0.003,1e-08,0.9,0.9,1000)\n",
    "print(\"Thetas are: \")\n",
    "for i in range(len(thetas_batch)):\n",
    "    print(\"Theta \" + str(i) +\" : \" + str(thetas_batch[i]))"
   ]
  },
  {
   "cell_type": "markdown",
   "id": "3b69626d",
   "metadata": {},
   "source": [
    "### R2 Score"
   ]
  },
  {
   "cell_type": "code",
   "execution_count": 8,
   "id": "bbca3192",
   "metadata": {},
   "outputs": [
    {
     "name": "stdout",
     "output_type": "stream",
     "text": [
      "R2 Score: 0.9789820900939714\n"
     ]
    }
   ],
   "source": [
    "prediction = X_multi @ thetas_batch\n",
    "\n",
    "print(\"R2 Score:\", r2_score(Y_multi, prediction))"
   ]
  },
  {
   "cell_type": "markdown",
   "id": "56d0bc9f",
   "metadata": {},
   "source": [
    "### Loss vs Iterations Plot"
   ]
  },
  {
   "cell_type": "code",
   "execution_count": 9,
   "id": "574ed5e3",
   "metadata": {},
   "outputs": [
    {
     "data": {
      "image/png": "[encoded data removed]",
      "text/plain": [
       "<Figure size 432x288 with 1 Axes>"
      ]
     },
     "metadata": {
      "needs_background": "light"
     },
     "output_type": "display_data"
    }
   ],
   "source": [
    "plt.title(\"Loss vs Iterations\")\n",
    "plt.xlabel('Iteration', fontsize=20)\n",
    "plt.ylabel('Loss', fontsize=20)\n",
    "plt.plot(costs_batch, 'r')\n",
    "plt.grid()\n",
    "plt.show()"
   ]
  },
  {
   "cell_type": "markdown",
   "id": "e893567a",
   "metadata": {},
   "source": [
    "### Loss vs parameters "
   ]
  },
  {
   "cell_type": "code",
   "execution_count": 10,
   "id": "b2908bc0",
   "metadata": {},
   "outputs": [
    {
     "data": {
      "image/png": "[encoded data removed]",
      "text/plain": [
       "<Figure size 432x288 with 1 Axes>"
      ]
     },
     "metadata": {
      "needs_background": "light"
     },
     "output_type": "display_data"
    },
    {
     "data": {
      "image/png": "[encoded data removed]",
      "text/plain": [
       "<Figure size 432x288 with 1 Axes>"
      ]
     },
     "metadata": {
      "needs_background": "light"
     },
     "output_type": "display_data"
    },
    {
     "data": {
      "image/png": "[encoded data removed]",
      "text/plain": [
       "<Figure size 432x288 with 1 Axes>"
      ]
     },
     "metadata": {
      "needs_background": "light"
     },
     "output_type": "display_data"
    },
    {
     "data": {
      "image/png": "[encoded data removed]",
      "text/plain": [
       "<Figure size 432x288 with 1 Axes>"
      ]
     },
     "metadata": {
      "needs_background": "light"
     },
     "output_type": "display_data"
    }
   ],
   "source": [
    "for i in range(4):\n",
    "    theta_list = [x[i] for x in thetas_list_batch]\n",
    "    plt.title(\"Loss vs Theta \"+ str(i))\n",
    "    plt.xlabel('Theta '+ str(i), fontsize=20)\n",
    "    plt.ylabel('Loss', fontsize=20)\n",
    "    plt.plot(theta_list, costs_batch, 'r')\n",
    "    plt.grid()\n",
    "    plt.show()"
   ]
  },
  {
   "cell_type": "markdown",
   "id": "a92004d3",
   "metadata": {},
   "source": [
    "## Adam (Mini-batch Version)"
   ]
  },
  {
   "cell_type": "markdown",
   "id": "c8927f81",
   "metadata": {},
   "source": [
    "### Function to divide data into mini-batches"
   ]
  },
  {
   "cell_type": "code",
   "execution_count": 11,
   "id": "18d0c036",
   "metadata": {},
   "outputs": [],
   "source": [
    "def create_mini_batches(X, Y, batch_size):\n",
    "    mini_batches = []\n",
    "    data = np.column_stack((X, Y))\n",
    "    num_mini_batches = data.shape[0] // batch_size\n",
    "\n",
    "    for i in range(num_mini_batches):\n",
    "        mini_batch = data[i * batch_size: (i + 1)*batch_size, :]\n",
    "        X_mini = mini_batch[:, : -1]\n",
    "        Y_mini = mini_batch[:, -1]\n",
    "        mini_batches.append((X_mini, Y_mini))\n",
    "    return mini_batches, num_mini_batches"
   ]
  },
  {
   "cell_type": "markdown",
   "id": "7ca4d012",
   "metadata": {},
   "source": [
    "### Algorithm Implementation"
   ]
  },
  {
   "cell_type": "code",
   "execution_count": 12,
   "id": "74a9ef20",
   "metadata": {},
   "outputs": [],
   "source": [
    "def mini_batch_multivariate_adam_gradient_descent(X, y, alpha, epsilon, beta1, beta2, epochs, batch_size):\n",
    "    thetas = np.zeros(X.shape[1])\n",
    "    vs = np.zeros(X.shape[1])\n",
    "    ms = np.zeros(X.shape[1])\n",
    "    costs = []\n",
    "    mini_batch_costs = []\n",
    "    thetas_list = []\n",
    "    hypothesis = []\n",
    "    hypothesis_total = []\n",
    "    epoch_thetas = []\n",
    "    gradients = []\n",
    "    for i in range(epochs):\n",
    "        mini_batches, num_mini_batches = create_mini_batches(X, y, batch_size)\n",
    "        for mini_batch in mini_batches:\n",
    "            thetas_list.append(thetas)\n",
    "            X_mini, Y_mini = mini_batch\n",
    "            y_minibatch_hat = X_mini @ thetas\n",
    "            hypothesis.append(y_minibatch_hat)\n",
    "            z = y_minibatch_hat - Y_mini\n",
    "            mini_batch_costs.append(\n",
    "                (1/(2*num_mini_batches)) * np.sum(np.power(z, 2)))\n",
    "            D_thetas = (X_mini.T@z)/num_mini_batches\n",
    "\n",
    "            \n",
    "            \n",
    "            ms = beta1 * ms + (1 - beta1) * D_thetas\n",
    "            vs = beta2 * vs + (1 - beta2) * np.power(D_thetas, 2)\n",
    "            ms_hat = ms / (1 - (np.power(beta1, i+1)))\n",
    "            vs_hat = vs / (1 - (np.power(beta2, i+1)))\n",
    "\n",
    "            thetas = thetas - ((alpha / (np.sqrt(vs_hat)+epsilon)) * ms_hat)\n",
    "\n",
    "       \n",
    "        epoch_thetas.append(thetas)\n",
    "        gradients.append(D_thetas)\n",
    "        y_hat_total = X @ thetas\n",
    "        z_total = y_hat_total - y\n",
    "        costs.append((1/(2*num_mini_batches) * np.sum(np.power(z_total, 2))))\n",
    "#         D_thetas_epoch = (X.T@z_total)/len(X)\n",
    "#         va = np.linalg.norm(D_thetas_epoch)\n",
    "        if i > 0:\n",
    "            if abs(costs[i-1] - costs[i]) < 0.001:\n",
    "                break\n",
    "#             if abs(np.linalg.norm(D_thetas_epoch)) < 0.001:\n",
    "#                 break\n",
    "            if abs(np.linalg.norm(gradients[i-1]) - np.linalg.norm(gradients[i])) < 0.001:\n",
    "                break\n",
    "\n",
    "        hypothesis_total.append(y_hat_total)\n",
    "\n",
    "    print(f\"After {i} iterations\")\n",
    "    return thetas_list, costs, hypothesis, thetas, mini_batches, mini_batch_costs, epoch_thetas, hypothesis_total"
   ]
  },
  {
   "cell_type": "markdown",
   "id": "63dd2166",
   "metadata": {},
   "source": [
    "### Values of Thetas"
   ]
  },
  {
   "cell_type": "code",
   "execution_count": 13,
   "id": "e765ed74",
   "metadata": {},
   "outputs": [
    {
     "name": "stdout",
     "output_type": "stream",
     "text": [
      "After 144 iterations\n",
      "Thetas are: \n",
      "Theta 0 : 0.676486332309634\n",
      "Theta 1 : 0.6647089389808022\n",
      "Theta 2 : 0.6624847088749862\n",
      "Theta 3 : 0.6871859180800561\n"
     ]
    }
   ],
   "source": [
    "thetas_list_mini_batch, costs_mini_batch, hypothesis_mini_batch, thetas_mini_batch, mini_batches, mini_batch_costs, epoch_thetas, hypothesis_total = mini_batch_multivariate_adam_gradient_descent(\n",
    "    X_multi, Y_multi, 0.001, 1e-08, 0.9, 0.9, 1000, 4)\n",
    "print(\"Thetas are: \")\n",
    "for i in range(len(thetas_mini_batch)):\n",
    "    print(\"Theta \" + str(i) +\" : \" + str(thetas_mini_batch[i]))"
   ]
  },
  {
   "cell_type": "markdown",
   "id": "a5739047",
   "metadata": {},
   "source": [
    "### R2 Score"
   ]
  },
  {
   "cell_type": "code",
   "execution_count": 14,
   "id": "e5a5b912",
   "metadata": {},
   "outputs": [
    {
     "name": "stdout",
     "output_type": "stream",
     "text": [
      "R2 Score: 0.9788674079610981\n"
     ]
    }
   ],
   "source": [
    "prediction_mini_batch = X_multi @ thetas_mini_batch\n",
    "\n",
    "print(\"R2 Score:\", r2_score(Y_multi, prediction_mini_batch))"
   ]
  },
  {
   "cell_type": "markdown",
   "id": "00a08565",
   "metadata": {},
   "source": [
    "### Loss vs Iterations Plot"
   ]
  },
  {
   "cell_type": "code",
   "execution_count": 15,
   "id": "b420e16a",
   "metadata": {},
   "outputs": [
    {
     "data": {
      "image/png": "[encoded data removed]",
      "text/plain": [
       "<Figure size 432x288 with 1 Axes>"
      ]
     },
     "metadata": {
      "needs_background": "light"
     },
     "output_type": "display_data"
    }
   ],
   "source": [
    "plt.title(\"Loss vs Iterations\")\n",
    "plt.xlabel('Iteration', fontsize=20)\n",
    "plt.ylabel('Loss', fontsize=20)\n",
    "plt.plot(costs_mini_batch, 'r')\n",
    "plt.grid()\n",
    "plt.show()"
   ]
  },
  {
   "cell_type": "markdown",
   "id": "799bd603",
   "metadata": {},
   "source": [
    "### Loss vs parameters "
   ]
  },
  {
   "cell_type": "code",
   "execution_count": 16,
   "id": "3566aa4b",
   "metadata": {},
   "outputs": [
    {
     "data": {
      "image/png": "[encoded data removed]",
      "text/plain": [
       "<Figure size 432x288 with 1 Axes>"
      ]
     },
     "metadata": {
      "needs_background": "light"
     },
     "output_type": "display_data"
    },
    {
     "data": {
      "image/png": "[encoded data removed]",
      "text/plain": [
       "<Figure size 432x288 with 1 Axes>"
      ]
     },
     "metadata": {
      "needs_background": "light"
     },
     "output_type": "display_data"
    },
    {
     "data": {
      "image/png": "[encoded data removed]",
      "text/plain": [
       "<Figure size 432x288 with 1 Axes>"
      ]
     },
     "metadata": {
      "needs_background": "light"
     },
     "output_type": "display_data"
    },
    {
     "data": {
      "image/png": "[encoded data removed]",
      "text/plain": [
       "<Figure size 432x288 with 1 Axes>"
      ]
     },
     "metadata": {
      "needs_background": "light"
     },
     "output_type": "display_data"
    }
   ],
   "source": [
    "for i in range(4):\n",
    "    theta_list = [x[i] for x in epoch_thetas]\n",
    "    plt.title(\"Loss vs Theta \"+ str(i))\n",
    "    plt.xlabel('Theta '+ str(i), fontsize=20)\n",
    "    plt.ylabel('Loss', fontsize=20)\n",
    "    plt.plot(theta_list, costs_mini_batch, 'r')\n",
    "    plt.grid()\n",
    "    plt.show()"
   ]
  }
 ],
 "metadata": {
  "colab": {
   "name": "NOFML&DS Final Practical Exam.ipynb",
   "provenance": []
  },
  "kernelspec": {
   "display_name": "Python 3 (ipykernel)",
   "language": "python",
   "name": "python3"
  },
  "language_info": {
   "codemirror_mode": {
    "name": "ipython",
    "version": 3
   },
   "file_extension": ".py",
   "mimetype": "text/x-python",
   "name": "python",
   "nbconvert_exporter": "python",
   "pygments_lexer": "ipython3",
   "version": "3.9.7"
  }
 },
 "nbformat": 4,
 "nbformat_minor": 5
}
